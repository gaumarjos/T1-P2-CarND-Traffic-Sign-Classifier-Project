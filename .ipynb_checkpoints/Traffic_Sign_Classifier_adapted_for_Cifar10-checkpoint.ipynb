{
 "cells": [
  {
   "cell_type": "markdown",
   "metadata": {},
   "source": [
    "# Self-Driving Car Engineer Nanodegree\n",
    "\n",
    "## Deep Learning\n",
    "\n",
    "## Project: Build a Traffic Sign Recognition Classifier\n",
    "\n",
    "In this notebook, a template is provided for you to implement your functionality in stages, which is required to successfully complete this project. If additional code is required that cannot be included in the notebook, be sure that the Python code is successfully imported and included in your submission if necessary. \n",
    "\n",
    "> **Note**: Once you have completed all of the code implementations, you need to finalize your work by exporting the iPython Notebook as an HTML document. Before exporting the notebook to html, all of the code cells need to have been run so that reviewers can see the final implementation and output. You can then export the notebook by using the menu above and navigating to  \\n\",\n",
    "    \"**File -> Download as -> HTML (.html)**. Include the finished document along with this notebook as your submission. \n",
    "\n",
    "In addition to implementing code, there is a writeup to complete. The writeup should be completed in a separate file, which can be either a markdown file or a pdf document. There is a [write up template](https://github.com/udacity/CarND-Traffic-Sign-Classifier-Project/blob/master/writeup_template.md) that can be used to guide the writing process. Completing the code template and writeup template will cover all of the [rubric points](https://review.udacity.com/#!/rubrics/481/view) for this project.\n",
    "\n",
    "The [rubric](https://review.udacity.com/#!/rubrics/481/view) contains \"Stand Out Suggestions\" for enhancing the project beyond the minimum requirements. The stand out suggestions are optional. If you decide to pursue the \"stand out suggestions\", you can include the code in this Ipython notebook and also discuss the results in the writeup file.\n",
    "\n",
    "\n",
    ">**Note:** Code and Markdown cells can be executed using the **Shift + Enter** keyboard shortcut. In addition, Markdown cells can be edited by typically double-clicking the cell to enter edit mode."
   ]
  },
  {
   "cell_type": "markdown",
   "metadata": {},
   "source": [
    "---\n",
    "## Step 0: Load The Data"
   ]
  },
  {
   "cell_type": "code",
   "execution_count": 1,
   "metadata": {},
   "outputs": [
    {
     "name": "stderr",
     "output_type": "stream",
     "text": [
      "Using TensorFlow backend.\n"
     ]
    },
    {
     "name": "stdout",
     "output_type": "stream",
     "text": [
      "Downloading data from http://www.cs.toronto.edu/~kriz/cifar-10-python.tar.gz\n",
      "Untaring file...\n"
     ]
    }
   ],
   "source": [
    "import pickle\n",
    "from keras.datasets import cifar10\n",
    "(X_train, y_train), (X_test, y_test) = cifar10.load_data()\n",
    "# y_train.shape is 2d, (50000, 1). While Keras is smart enough to handle this\n",
    "# it's a good idea to flatten the array.\n",
    "y_train = y_train.reshape(-1)\n",
    "y_test = y_test.reshape(-1)\n",
    "\n",
    "from sklearn.model_selection import train_test_split\n",
    "X_train, X_valid, y_train, y_valid = train_test_split(X_train, y_train, test_size=0.3, random_state=42, stratify = y_train)"
   ]
  },
  {
   "cell_type": "code",
   "execution_count": 2,
   "metadata": {},
   "outputs": [
    {
     "name": "stdout",
     "output_type": "stream",
     "text": [
      "['/cpu:0', '/gpu:0']\n"
     ]
    }
   ],
   "source": [
    "### Check GPU support\n",
    "from tensorflow.python.client import device_lib\n",
    "\n",
    "def get_available_devices():  \n",
    "    local_device_protos = device_lib.list_local_devices()\n",
    "    return [x.name for x in local_device_protos]\n",
    "\n",
    "print(get_available_devices())  "
   ]
  },
  {
   "cell_type": "markdown",
   "metadata": {},
   "source": [
    "---\n",
    "\n",
    "## Step 1: Dataset Summary & Exploration\n",
    "\n",
    "The pickled data is a dictionary with 4 key/value pairs:\n",
    "\n",
    "- `'features'` is a 4D array containing raw pixel data of the traffic sign images, (num examples, width, height, channels).\n",
    "- `'labels'` is a 1D array containing the label/class id of the traffic sign. The file `signnames.csv` contains id -> name mappings for each id.\n",
    "- `'sizes'` is a list containing tuples, (width, height) representing the original width and height the image.\n",
    "- `'coords'` is a list containing tuples, (x1, y1, x2, y2) representing coordinates of a bounding box around the sign in the image. **THESE COORDINATES ASSUME THE ORIGINAL IMAGE. THE PICKLED DATA CONTAINS RESIZED VERSIONS (32 by 32) OF THESE IMAGES**\n",
    "\n",
    "Complete the basic data summary below. Use python, numpy and/or pandas methods to calculate the data summary rather than hard coding the results. For example, the [pandas shape method](http://pandas.pydata.org/pandas-docs/stable/generated/pandas.DataFrame.shape.html) might be useful for calculating some of the summary results. "
   ]
  },
  {
   "cell_type": "markdown",
   "metadata": {},
   "source": [
    "### Provide a Basic Summary of the Data Set Using Python, Numpy and/or Pandas"
   ]
  },
  {
   "cell_type": "code",
   "execution_count": 3,
   "metadata": {},
   "outputs": [
    {
     "name": "stdout",
     "output_type": "stream",
     "text": [
      "Number of training examples = 35000\n",
      "Number of validation examples = 15000\n",
      "Number of testing examples = 10000\n",
      "Image data shape = (32, 32, 3)\n",
      "Number of classes = 10\n"
     ]
    }
   ],
   "source": [
    "### Replace each question mark with the appropriate value. \n",
    "### Use python, pandas or numpy methods rather than hard coding the results\n",
    "import numpy as np\n",
    "import tensorflow\n",
    "\n",
    "# TODO: Number of training examples\n",
    "n_train = len(X_train)\n",
    "\n",
    "# TODO: Number of validation examples\n",
    "n_validation = len(X_valid)\n",
    "\n",
    "# TODO: Number of testing examples.\n",
    "n_test = len(X_test)\n",
    "\n",
    "# TODO: What's the shape of an traffic sign image?\n",
    "image_shape = X_train[0].shape\n",
    "\n",
    "# TODO: How many unique classes/labels there are in the dataset.\n",
    "n_classes = len(np.unique(y_train))\n",
    "\n",
    "print(\"Number of training examples =\", n_train)\n",
    "print(\"Number of validation examples =\", n_validation)\n",
    "print(\"Number of testing examples =\", n_test)\n",
    "print(\"Image data shape =\", image_shape)\n",
    "print(\"Number of classes =\", n_classes)"
   ]
  },
  {
   "cell_type": "markdown",
   "metadata": {},
   "source": [
    "### Include an exploratory visualization of the dataset"
   ]
  },
  {
   "cell_type": "markdown",
   "metadata": {},
   "source": [
    "Visualize the German Traffic Signs Dataset using the pickled file(s). This is open ended, suggestions include: plotting traffic sign images, plotting the count of each sign, etc. \n",
    "\n",
    "The [Matplotlib](http://matplotlib.org/) [examples](http://matplotlib.org/examples/index.html) and [gallery](http://matplotlib.org/gallery.html) pages are a great resource for doing visualizations in Python.\n",
    "\n",
    "**NOTE:** It's recommended you start with something simple first. If you wish to do more, come back to it after you've completed the rest of the sections. It can be interesting to look at the distribution of classes in the training, validation and test set. Is the distribution the same? Are there more examples of some classes than others?"
   ]
  },
  {
   "cell_type": "code",
   "execution_count": 4,
   "metadata": {
    "scrolled": true
   },
   "outputs": [
    {
     "name": "stdout",
     "output_type": "stream",
     "text": [
      "5\n",
      "1\n",
      "2\n",
      "0\n",
      "0\n",
      "7\n",
      "2\n",
      "1\n",
      "2\n",
      "3\n"
     ]
    },
    {
     "data": {
      "image/png": "[encoded data removed]",
      "text/plain": [
       "<matplotlib.figure.Figure at 0x7f29ad2f9cc0>"
      ]
     },
     "metadata": {},
     "output_type": "display_data"
    },
    {
     "data": {
      "image/png": "[encoded data removed]",
      "text/plain": [
       "<matplotlib.figure.Figure at 0x7f29af4ec3c8>"
      ]
     },
     "metadata": {},
     "output_type": "display_data"
    },
    {
     "data": {
      "image/png": "[encoded data removed]",
      "text/plain": [
       "<matplotlib.figure.Figure at 0x7f29af500320>"
      ]
     },
     "metadata": {},
     "output_type": "display_data"
    },
    {
     "data": {
      "image/png": "[encoded data removed]",
      "text/plain": [
       "<matplotlib.figure.Figure at 0x7f29af3cbe10>"
      ]
     },
     "metadata": {},
     "output_type": "display_data"
    },
    {
     "data": {
      "image/png": "[encoded data removed]",
      "text/plain": [
       "<matplotlib.figure.Figure at 0x7f29af2e12e8>"
      ]
     },
     "metadata": {},
     "output_type": "display_data"
    },
    {
     "data": {
      "image/png": "[encoded data removed]",
      "text/plain": [
       "<matplotlib.figure.Figure at 0x7f29a2b47c18>"
      ]
     },
     "metadata": {},
     "output_type": "display_data"
    },
    {
     "data": {
      "image/png": "[encoded data removed]",
      "text/plain": [
       "<matplotlib.figure.Figure at 0x7f29a2b5d9e8>"
      ]
     },
     "metadata": {},
     "output_type": "display_data"
    },
    {
     "data": {
      "image/png": "[encoded data removed]",
      "text/plain": [
       "<matplotlib.figure.Figure at 0x7f29a2ae59b0>"
      ]
     },
     "metadata": {},
     "output_type": "display_data"
    },
    {
     "data": {
      "image/png": "[encoded data removed]",
      "text/plain": [
       "<matplotlib.figure.Figure at 0x7f29a2a76da0>"
      ]
     },
     "metadata": {},
     "output_type": "display_data"
    },
    {
     "data": {
      "image/png": "[encoded data removed]",
      "text/plain": [
       "<matplotlib.figure.Figure at 0x7f29981616d8>"
      ]
     },
     "metadata": {},
     "output_type": "display_data"
    }
   ],
   "source": [
    "### Data exploration\n",
    "\n",
    "import matplotlib.pyplot as plt\n",
    "import random\n",
    "import cv2\n",
    "from sklearn.utils import shuffle\n",
    "\n",
    "# Visualizations will be shown in the notebook.\n",
    "%matplotlib inline\n",
    "\n",
    "for i in range(10):\n",
    "    index = random.randint(0, len(X_train))\n",
    "    image = X_train[index].squeeze()\n",
    "    plt.figure(figsize=(1,1))\n",
    "    plt.imshow(image)\n",
    "    print(y_train[index])"
   ]
  },
  {
   "cell_type": "code",
   "execution_count": 5,
   "metadata": {},
   "outputs": [
    {
     "name": "stdout",
     "output_type": "stream",
     "text": [
      "New number of training examples = 82890\n"
     ]
    },
    {
     "data": {
      "image/png": "[encoded data removed]",
      "text/plain": [
       "<matplotlib.figure.Figure at 0x7fbbb9b78160>"
      ]
     },
     "metadata": {},
     "output_type": "display_data"
    },
    {
     "data": {
      "image/png": "[encoded data removed]",
      "text/plain": [
       "<matplotlib.figure.Figure at 0x7fbbb9b1d160>"
      ]
     },
     "metadata": {},
     "output_type": "display_data"
    }
   ],
   "source": [
    "### Augmentation of the input dataset to uniform the number of samples available for each label\n",
    "\n",
    "### Number of samples in each class\n",
    "def plot_class_distribution(y_train):\n",
    "    # print('Sample distribution for each label')\n",
    "    f, ax = plt.subplots(1)\n",
    "    h = ax.hist(y_train, bins=range(n_classes+1))[0]\n",
    "    ax.set_xlabel('Labels')\n",
    "    ax.set_ylabel('Number of samples')\n",
    "    # print(h)\n",
    "    return h\n",
    "\n",
    "\n",
    "### Rotate image\n",
    "def rotate(X_train, y_train, angles=(-15., +15.)):\n",
    "    cols = 32\n",
    "    rows = 32\n",
    "    new_X_train = list()\n",
    "    new_y_train = list()\n",
    "    for i, image in enumerate(X_train):\n",
    "        for angle in angles:\n",
    "            # Rotate\n",
    "            M = cv2.getRotationMatrix2D((cols/2, rows/2), angle, 1.)\n",
    "            rotated = cv2.warpAffine(image, M, (cols, rows))\n",
    "            new_X_train.append(rotated)\n",
    "            new_y_train.append(y_train[i])\n",
    "                        \n",
    "    return (np.asarray(new_X_train), np.asarray(new_y_train))\n",
    "\n",
    "\n",
    "### Translate image\n",
    "def translate(X_train, y_train, translations=((-4, -4),\n",
    "                                              (-4, +4), \n",
    "                                              (+4, -4), \n",
    "                                              (+4, +4))):\n",
    "    cols = 32\n",
    "    rows = 32\n",
    "    new_X_train = list()\n",
    "    new_y_train = list()\n",
    "    for i, image in enumerate(X_train):\n",
    "        for translation in translations:\n",
    "            # Translate\n",
    "            M = np.float32([[1, 0, translation[0]], [0, 1, translation[1]]])\n",
    "            translated = cv2.warpAffine(image, M, (cols, rows))\n",
    "            new_X_train.append(translated)\n",
    "            new_y_train.append(y_train[i])\n",
    "                    \n",
    "    return (np.asarray(new_X_train), np.asarray(new_y_train))\n",
    "\n",
    "\n",
    "### Brightness\n",
    "def brightness(X_train, y_train, delta=50):\n",
    "    new_X_train = list()\n",
    "    new_y_train = list()\n",
    "    for i, image in enumerate(X_train):\n",
    "        hsv = cv2.cvtColor(image, cv2.COLOR_RGB2HSV)\n",
    "        value = hsv[:,:,2]\n",
    "        new_value = np.where((255 - value) < delta, 255, value + delta)\n",
    "        hsv[:,:,2] = new_value\n",
    "        brighter = cv2.cvtColor(hsv, cv2.COLOR_HSV2RGB)\n",
    "        new_X_train.append(brighter)\n",
    "        new_y_train.append(y_train[i])\n",
    "    \n",
    "    return (np.asarray(new_X_train), np.asarray(new_y_train))\n",
    "\n",
    "\n",
    "### Inflate under-represented classes\n",
    "def inflate_underrepresented(X_train, y_train, n_min_samples=2000, mode='best'):\n",
    "    class_dist_initial = plot_class_distribution(y_train)\n",
    "    underrepresented_classes = np.where(class_dist_initial < n_min_samples)[0]\n",
    "    \n",
    "    for uc in underrepresented_classes:\n",
    "        indexes = np.nonzero(y_train == uc)\n",
    "        X_train_beloging_to_this_class = X_train[indexes]\n",
    "        y_train_beloging_to_this_class = y_train[indexes]\n",
    "        \n",
    "        # Generate new data\n",
    "        # Rotate (+ 2x)\n",
    "        X_train_rotated, y_train_rotated = rotate(X_train_beloging_to_this_class, \n",
    "                                                  y_train_beloging_to_this_class)\n",
    "        # Translate (+ 4x)\n",
    "        X_train_translated, y_train_translated = translate(X_train_beloging_to_this_class, \n",
    "                                                           y_train_beloging_to_this_class)\n",
    "        \n",
    "        # Increase brightness (+ 1x)\n",
    "        X_train_brighted, y_train_brighted = brightness(X_train_beloging_to_this_class, \n",
    "                                                        y_train_beloging_to_this_class)\n",
    "        \n",
    "        # Create a shuffled pool of new data\n",
    "        X_train_new = np.concatenate((X_train_rotated, \n",
    "                                      X_train_translated,\n",
    "                                      X_train_brighted), axis=0)\n",
    "        y_train_new = np.concatenate((y_train_rotated, \n",
    "                                      y_train_translated,\n",
    "                                      y_train_brighted), axis=0)\n",
    "        X_train_new, y_train_new = shuffle(X_train_new, y_train_new)\n",
    "        \n",
    "        # Take a chunk of new data from the pool and concatenate it with the original dataset\n",
    "        n_to_add = n_min_samples - X_train_beloging_to_this_class.shape[0]\n",
    "        X_train = np.concatenate((X_train, X_train_new[0:n_to_add]), axis=0)\n",
    "        y_train = np.concatenate((y_train, y_train_new[0:n_to_add]), axis=0)\n",
    "        \n",
    "    class_dist_after = plot_class_distribution(y_train)\n",
    "    return (X_train, y_train)\n",
    "\n",
    "\n",
    "### Data augmentation\n",
    "# X_train, y_train = inflate_underrepresented(X_train, y_train)\n",
    "\n",
    "\n",
    "### New stats\n",
    "# Number of training examples\n",
    "# n_train = len(X_train)\n",
    "# print(\"New number of training examples =\", n_train)"
   ]
  },
  {
   "cell_type": "markdown",
   "metadata": {},
   "source": [
    "----\n",
    "\n",
    "## Step 2: Design and Test a Model Architecture\n",
    "\n",
    "Design and implement a deep learning model that learns to recognize traffic signs. Train and test your model on the [German Traffic Sign Dataset](http://benchmark.ini.rub.de/?section=gtsrb&subsection=dataset).\n",
    "\n",
    "The LeNet-5 implementation shown in the [classroom](https://classroom.udacity.com/nanodegrees/nd013/parts/fbf77062-5703-404e-b60c-95b78b2f3f9e/modules/6df7ae49-c61c-4bb2-a23e-6527e69209ec/lessons/601ae704-1035-4287-8b11-e2c2716217ad/concepts/d4aca031-508f-4e0b-b493-e7b706120f81) at the end of the CNN lesson is a solid starting point. You'll have to change the number of classes and possibly the preprocessing, but aside from that it's plug and play! \n",
    "\n",
    "With the LeNet-5 solution from the lecture, you should expect a validation set accuracy of about 0.89. To meet specifications, the validation set accuracy will need to be at least 0.93. It is possible to get an even higher accuracy, but 0.93 is the minimum for a successful project submission. \n",
    "\n",
    "There are various aspects to consider when thinking about this problem:\n",
    "\n",
    "- Neural network architecture (is the network over or underfitting?)\n",
    "- Play around preprocessing techniques (normalization, rgb to grayscale, etc)\n",
    "- Number of examples per label (some have more than others).\n",
    "- Generate fake data.\n",
    "\n",
    "Here is an example of a [published baseline model on this problem](http://yann.lecun.com/exdb/publis/pdf/sermanet-ijcnn-11.pdf). It's not required to be familiar with the approach used in the paper but, it's good practice to try to read papers like these."
   ]
  },
  {
   "cell_type": "markdown",
   "metadata": {},
   "source": [
    "### Pre-process the Data Set (normalization, grayscale, etc.)"
   ]
  },
  {
   "cell_type": "markdown",
   "metadata": {},
   "source": [
    "Minimally, the image data should be normalized so that the data has mean zero and equal variance. For image data, `(pixel - 128)/ 128` is a quick way to approximately normalize the data and can be used in this project. \n",
    "\n",
    "Other pre-processing steps are optional. You can try different techniques to see if it improves performance. \n",
    "\n",
    "Use the code cell (or multiple code cells, if necessary) to implement the first step of your project."
   ]
  },
  {
   "cell_type": "code",
   "execution_count": 5,
   "metadata": {
    "collapsed": true
   },
   "outputs": [],
   "source": [
    "### Normalize\n",
    "def normalize(image):\n",
    "    result = np.zeros(shape=image.shape)\n",
    "    return cv2.normalize(image, result, alpha=-1., beta=1., norm_type=cv2.NORM_MINMAX, dtype=cv2.CV_32F)\n",
    "\n",
    "\n",
    "### Change colorspace\n",
    "def colorspace(image):\n",
    "    return cv2.cvtColor(image, cv2.COLOR_RGB2YUV)\n",
    "    \n",
    "\n",
    "### Convert to grayscale\n",
    "def grayscale(image):\n",
    "    return cv2.cvtColor(image, cv2.COLOR_RGB2GRAY)\n",
    "\n",
    "\n",
    "### Preprocess pipeline\n",
    "def preprocess(X_data, y_data):\n",
    "    X_data = X_data.astype('float32')\n",
    "    for i in range(len(X_data)):\n",
    "        # X_train[i] = colorspace(X_train[i])\n",
    "        # X_train[i] = grayscale(X_train_raw[i])\n",
    "        X_data[i] = normalize(X_data[i])\n",
    "    X_data, y_data = shuffle(X_data, y_data)\n",
    "    return X_data, y_data\n",
    "\n",
    "\n",
    "X_train, y_train = preprocess(X_train, y_train)\n",
    "X_valid, y_valid = preprocess(X_valid, y_valid)\n",
    "X_test, y_test = preprocess(X_test, y_test)\n",
    "\n",
    "\n",
    "# Plot a random image to check everything's fine\n",
    "# print(X_train[random.randint(0, len(X_train)),:,:,0])"
   ]
  },
  {
   "cell_type": "markdown",
   "metadata": {},
   "source": [
    "### Model Architecture"
   ]
  },
  {
   "cell_type": "code",
   "execution_count": 6,
   "metadata": {
    "collapsed": true
   },
   "outputs": [],
   "source": [
    "### Setup TensorFlow\n",
    "import tensorflow as tf\n",
    "\n",
    "EPOCHS = 30\n",
    "BATCH_SIZE = 128"
   ]
  },
  {
   "cell_type": "code",
   "execution_count": 7,
   "metadata": {
    "collapsed": true
   },
   "outputs": [],
   "source": [
    "### Architecture\n",
    "from tensorflow.contrib.layers import flatten\n",
    "\n",
    "def LeNet(x):    \n",
    "    # Arguments used for tf.truncated_normal, randomly defines variables for the weights and biases for each layer\n",
    "    mu = 0\n",
    "    sigma = 0.1\n",
    "    \n",
    "    # Size of the network\n",
    "    conv1_output_depth = 6*2  # 2x the depth, it was 6\n",
    "    conv2_output_depth = 16*2  # 2x the depth, it was 16\n",
    "    flatten_output_size = 5 * 5 * conv2_output_depth  # 800, it was 400\n",
    "    fc1_output_size = 120*2  # 2x, it was 120\n",
    "    fc2_output_size = 84*2  # 2x, it was 84\n",
    "    \n",
    "    # Store layers weight & bias\n",
    "    weights = {\n",
    "        'wconv1': tf.Variable(tf.truncated_normal(shape=(5, 5, 3, conv1_output_depth),\n",
    "                                                            mean = mu, stddev = 1/np.sqrt(5*5*3))),\n",
    "        'wconv2': tf.Variable(tf.truncated_normal(shape=(5, 5, conv1_output_depth, conv2_output_depth),\n",
    "                                                             mean = mu, stddev = 1/np.sqrt(5*5*conv1_output_depth))),\n",
    "        'wfc1': tf.Variable(tf.truncated_normal(shape=(flatten_output_size, fc1_output_size),\n",
    "                                               mean = mu, stddev = 1/np.sqrt(flatten_output_size))),\n",
    "        'wfc2': tf.Variable(tf.truncated_normal(shape=(fc1_output_size, fc2_output_size),\n",
    "                                               mean = mu, stddev = 1/np.sqrt(fc1_output_size))),\n",
    "        'wfc3': tf.Variable(tf.truncated_normal(shape=(fc2_output_size, n_classes),\n",
    "                                               mean = mu, stddev = 1/np.sqrt(fc2_output_size)))}\n",
    "\n",
    "    biases = {\n",
    "        'bconv1': tf.Variable(tf.zeros(conv1_output_depth)),\n",
    "        'bconv2': tf.Variable(tf.zeros(conv2_output_depth)),\n",
    "        'bfc1': tf.Variable(tf.zeros(fc1_output_size)),\n",
    "        'bfc2': tf.Variable(tf.zeros(fc2_output_size)),\n",
    "        'bfc3': tf.Variable(tf.zeros(n_classes))}\n",
    "    \n",
    "    # Layer 1: Convolutional. Input = 32x32x3. Output = 28x28x12.\n",
    "    conv1 = tf.nn.conv2d(x, weights['wconv1'], strides=[1, 1, 1, 1], padding='VALID')\n",
    "    conv1 = tf.nn.bias_add(conv1, biases['bconv1'])\n",
    "    conv1 = tf.nn.relu(conv1)\n",
    "    conv1 = tf.nn.dropout(conv1, keep_prob_conv1)\n",
    "\n",
    "    # Pooling. Input = 28x28x12. Output = 14x14x12.\n",
    "    conv1 = tf.nn.max_pool(conv1, (1, 2, 2, 1), (1, 2, 2, 1), 'VALID')   \n",
    "    \n",
    "    # Layer 2: Convolutional. Output = 10x10x32.\n",
    "    conv2 = tf.nn.conv2d(conv1, weights['wconv2'], strides=[1, 1, 1, 1], padding='VALID')\n",
    "    conv2 = tf.nn.bias_add(conv2, biases['bconv2'])\n",
    "    conv2 = tf.nn.relu(conv2)\n",
    "    conv2 = tf.nn.dropout(conv2, keep_prob_conv2)\n",
    "\n",
    "    # Pooling. Input = 10x10x32. Output = 5x5x32.\n",
    "    conv2 = tf.nn.max_pool(conv2, (1, 2, 2, 1), (1, 2, 2, 1), 'VALID') \n",
    "\n",
    "    # Flatten. Input = 5x5x32. Output = 800.\n",
    "    flat = tf.contrib.layers.flatten(conv2)\n",
    "    \n",
    "    # Layer 3: Fully Connected. Input = 800. Output = 240.\n",
    "    fc1 = tf.add(tf.matmul(flat, weights['wfc1']), biases['bfc1'])\n",
    "    fc1 = tf.nn.relu(fc1)\n",
    "    fc1 = tf.nn.dropout(fc1, keep_prob_fc1)\n",
    "\n",
    "    # Layer 4: Fully Connected. Input = 240. Output = 168.\n",
    "    fc2 = tf.add(tf.matmul(fc1, weights['wfc2']), biases['bfc2'])\n",
    "    fc2 = tf.nn.relu(fc2)\n",
    "    fc2 = tf.nn.dropout(fc2, keep_prob_fc2)\n",
    "\n",
    "    # Layer 5: Fully Connected. Input = 168. Output = 43.\n",
    "    logits = tf.add(tf.matmul(fc2, weights['wfc3']), biases['bfc3'])\n",
    "    \n",
    "    return logits"
   ]
  },
  {
   "cell_type": "code",
   "execution_count": 8,
   "metadata": {
    "collapsed": true
   },
   "outputs": [],
   "source": [
    "### Training pipeline\n",
    "x = tf.placeholder(tf.float32, (None, 32, 32, 3))\n",
    "y = tf.placeholder(tf.int32, (None))\n",
    "one_hot_y = tf.one_hot(y, n_classes)\n",
    "\n",
    "# Placeholders for keep_prob of dropout layers\n",
    "keep_prob_conv1 = tf.placeholder(tf.float32)\n",
    "keep_prob_conv2 = tf.placeholder(tf.float32)\n",
    "keep_prob_fc1 = tf.placeholder(tf.float32)\n",
    "keep_prob_fc2 = tf.placeholder(tf.float32)\n",
    "\n",
    "rate = 0.001\n",
    "\n",
    "logits = LeNet(x)\n",
    "cross_entropy = tf.nn.softmax_cross_entropy_with_logits(labels=one_hot_y, logits=logits)\n",
    "loss_operation = tf.reduce_mean(cross_entropy)\n",
    "optimizer = tf.train.AdamOptimizer(learning_rate = rate)\n",
    "training_operation = optimizer.minimize(loss_operation)"
   ]
  },
  {
   "cell_type": "code",
   "execution_count": 9,
   "metadata": {
    "collapsed": true
   },
   "outputs": [],
   "source": [
    "### Model evaluation\n",
    "correct_prediction = tf.equal(tf.argmax(logits, 1), tf.argmax(one_hot_y, 1))\n",
    "accuracy_operation = tf.reduce_mean(tf.cast(correct_prediction, tf.float32))\n",
    "saver = tf.train.Saver()\n",
    "\n",
    "def evaluate(X_data, y_data):\n",
    "    num_examples = len(X_data)\n",
    "    total_accuracy = 0\n",
    "    sess = tf.get_default_session()\n",
    "    for offset in range(0, num_examples, BATCH_SIZE):\n",
    "        batch_x, batch_y = X_data[offset:offset+BATCH_SIZE], y_data[offset:offset+BATCH_SIZE]\n",
    "        accuracy = sess.run(accuracy_operation, feed_dict={x: batch_x, y: batch_y,\n",
    "                                                           keep_prob_conv1: 1.0,\n",
    "                                                           keep_prob_conv2: 1.0,\n",
    "                                                           keep_prob_fc1: 1.0,\n",
    "                                                           keep_prob_fc2: 1.0})\n",
    "        total_accuracy += (accuracy * len(batch_x))\n",
    "    return total_accuracy / num_examples"
   ]
  },
  {
   "cell_type": "markdown",
   "metadata": {},
   "source": [
    "### Train, Validate and Test the Model"
   ]
  },
  {
   "cell_type": "markdown",
   "metadata": {},
   "source": [
    "A validation set can be used to assess how well the model is performing. A low accuracy on the training and validation\n",
    "sets imply underfitting. A high accuracy on the training set but low accuracy on the validation set implies overfitting."
   ]
  },
  {
   "cell_type": "code",
   "execution_count": 10,
   "metadata": {},
   "outputs": [
    {
     "name": "stdout",
     "output_type": "stream",
     "text": [
      "Training...\n",
      "\n",
      "EPOCH 1 ...\n",
      "Training Accuracy = 0.486\n",
      "Validation Accuracy = 0.474\n",
      "\n",
      "EPOCH 2 ...\n",
      "Training Accuracy = 0.569\n",
      "Validation Accuracy = 0.548\n",
      "\n",
      "EPOCH 3 ...\n",
      "Training Accuracy = 0.617\n",
      "Validation Accuracy = 0.585\n",
      "\n",
      "EPOCH 4 ...\n",
      "Training Accuracy = 0.650\n",
      "Validation Accuracy = 0.613\n",
      "\n",
      "EPOCH 5 ...\n",
      "Training Accuracy = 0.680\n",
      "Validation Accuracy = 0.632\n",
      "\n",
      "EPOCH 6 ...\n",
      "Training Accuracy = 0.698\n",
      "Validation Accuracy = 0.640\n",
      "\n",
      "EPOCH 7 ...\n",
      "Training Accuracy = 0.719\n",
      "Validation Accuracy = 0.648\n",
      "\n",
      "EPOCH 8 ...\n",
      "Training Accuracy = 0.748\n",
      "Validation Accuracy = 0.664\n",
      "\n",
      "EPOCH 9 ...\n",
      "Training Accuracy = 0.754\n",
      "Validation Accuracy = 0.657\n",
      "\n",
      "EPOCH 10 ...\n",
      "Training Accuracy = 0.771\n",
      "Validation Accuracy = 0.663\n",
      "\n",
      "EPOCH 11 ...\n",
      "Training Accuracy = 0.787\n",
      "Validation Accuracy = 0.671\n",
      "\n",
      "EPOCH 12 ...\n",
      "Training Accuracy = 0.808\n",
      "Validation Accuracy = 0.677\n",
      "\n",
      "EPOCH 13 ...\n",
      "Training Accuracy = 0.813\n",
      "Validation Accuracy = 0.673\n",
      "\n",
      "EPOCH 14 ...\n",
      "Training Accuracy = 0.833\n",
      "Validation Accuracy = 0.680\n",
      "\n",
      "EPOCH 15 ...\n",
      "Training Accuracy = 0.838\n",
      "Validation Accuracy = 0.679\n",
      "\n",
      "EPOCH 16 ...\n",
      "Training Accuracy = 0.849\n",
      "Validation Accuracy = 0.678\n",
      "\n",
      "EPOCH 17 ...\n",
      "Training Accuracy = 0.860\n",
      "Validation Accuracy = 0.677\n",
      "\n",
      "EPOCH 18 ...\n",
      "Training Accuracy = 0.848\n",
      "Validation Accuracy = 0.661\n",
      "\n",
      "EPOCH 19 ...\n",
      "Training Accuracy = 0.881\n",
      "Validation Accuracy = 0.676\n",
      "\n",
      "EPOCH 20 ...\n",
      "Training Accuracy = 0.885\n",
      "Validation Accuracy = 0.676\n",
      "\n",
      "EPOCH 21 ...\n",
      "Training Accuracy = 0.894\n",
      "Validation Accuracy = 0.678\n",
      "\n",
      "EPOCH 22 ...\n",
      "Training Accuracy = 0.891\n",
      "Validation Accuracy = 0.675\n",
      "\n",
      "EPOCH 23 ...\n",
      "Training Accuracy = 0.894\n",
      "Validation Accuracy = 0.672\n",
      "\n",
      "EPOCH 24 ...\n",
      "Training Accuracy = 0.915\n",
      "Validation Accuracy = 0.676\n",
      "\n",
      "EPOCH 25 ...\n",
      "Training Accuracy = 0.922\n",
      "Validation Accuracy = 0.679\n",
      "\n",
      "EPOCH 26 ...\n",
      "Training Accuracy = 0.921\n",
      "Validation Accuracy = 0.673\n",
      "\n",
      "EPOCH 27 ...\n",
      "Training Accuracy = 0.929\n",
      "Validation Accuracy = 0.675\n",
      "\n",
      "EPOCH 28 ...\n",
      "Training Accuracy = 0.930\n",
      "Validation Accuracy = 0.672\n",
      "\n",
      "EPOCH 29 ...\n",
      "Training Accuracy = 0.941\n",
      "Validation Accuracy = 0.678\n",
      "\n",
      "EPOCH 30 ...\n",
      "Training Accuracy = 0.947\n",
      "Validation Accuracy = 0.668\n",
      "\n",
      "Model saved\n"
     ]
    }
   ],
   "source": [
    "### Train your model here.\n",
    "### Calculate and report the accuracy on the training and validation set.\n",
    "### Once a final model architecture is selected, \n",
    "### the accuracy on the test set should be calculated and reported as well.\n",
    "### Feel free to use as many code cells as needed.\n",
    "\n",
    "\n",
    "sess = tf.Session()\n",
    "\n",
    "\n",
    "with tf.Session(config=tf.ConfigProto(log_device_placement=True)) as sess:\n",
    "    sess.run(tf.global_variables_initializer())\n",
    "    num_examples = len(X_train)\n",
    "    train_accuracy = list()\n",
    "    validation_accuracy = list()\n",
    "    \n",
    "    print(\"Training...\")\n",
    "    print()\n",
    "    for i in range(EPOCHS):\n",
    "        X_train, y_train = shuffle(X_train, y_train)\n",
    "        for offset in range(0, num_examples, BATCH_SIZE):\n",
    "            end = offset + BATCH_SIZE\n",
    "            batch_x, batch_y = X_train[offset:end], y_train[offset:end]\n",
    "            sess.run(training_operation, feed_dict={x: batch_x, y: batch_y,\n",
    "                                                    keep_prob_conv1: 1.0,\n",
    "                                                    keep_prob_conv2: 1.0,  # better result than with 1.0\n",
    "                                                    keep_prob_fc1: 0.5,\n",
    "                                                    keep_prob_fc2: 1.0})  # it doesn't really matter if it's 1 or 0.5...\n",
    "        train_accuracy.append(evaluate(X_train, y_train))\n",
    "        validation_accuracy.append(evaluate(X_valid, y_valid))\n",
    "        print(\"EPOCH {} ...\".format(i+1))\n",
    "        print(\"Training Accuracy = {:.3f}\".format(train_accuracy[-1]))\n",
    "        print(\"Validation Accuracy = {:.3f}\".format(validation_accuracy[-1]))\n",
    "        print()\n",
    "    \n",
    "    saver.save(sess, './lenet')\n",
    "    print(\"Model saved\")"
   ]
  },
  {
   "cell_type": "code",
   "execution_count": 11,
   "metadata": {},
   "outputs": [
    {
     "data": {
      "text/plain": [
       "<matplotlib.legend.Legend at 0x7f292bc09f60>"
      ]
     },
     "execution_count": 11,
     "metadata": {},
     "output_type": "execute_result"
    },
    {
     "data": {
      "image/png": "[encoded data removed]",
      "text/plain": [
       "<matplotlib.figure.Figure at 0x7f292bd34ba8>"
      ]
     },
     "metadata": {},
     "output_type": "display_data"
    }
   ],
   "source": [
    "### Plot the trend of training and validation accuracies over the epochs\n",
    "f, ax = plt.subplots(1)\n",
    "ax.plot(np.asarray(train_accuracy))\n",
    "ax.plot(np.asarray(validation_accuracy))\n",
    "ax.set_xlabel('Epoch')\n",
    "ax.set_ylabel('Accuracy')\n",
    "ax.grid()\n",
    "ax.legend(['Training', 'Validation'])"
   ]
  },
  {
   "cell_type": "code",
   "execution_count": 12,
   "metadata": {},
   "outputs": [
    {
     "name": "stdout",
     "output_type": "stream",
     "text": [
      "INFO:tensorflow:Restoring parameters from ./lenet\n",
      "Test Accuracy = 0.672\n"
     ]
    }
   ],
   "source": [
    "### Evaluate the accuracy on the test set\n",
    "with tf.Session() as sess:\n",
    "    saver.restore(sess, tf.train.latest_checkpoint('.'))\n",
    "    test_accuracy = evaluate(X_test, y_test)\n",
    "    print(\"Test Accuracy = {:.3f}\".format(test_accuracy))"
   ]
  }
 ],
 "metadata": {
  "anaconda-cloud": {},
  "kernelspec": {
   "display_name": "Python 3",
   "language": "python",
   "name": "python3"
  },
  "language_info": {
   "codemirror_mode": {
    "name": "ipython",
    "version": 3
   },
   "file_extension": ".py",
   "mimetype": "text/x-python",
   "name": "python",
   "nbconvert_exporter": "python",
   "pygments_lexer": "ipython3",
   "version": "3.5.2"
  },
  "widgets": {
   "state": {},
   "version": "1.1.2"
  }
 },
 "nbformat": 4,
 "nbformat_minor": 1
}
